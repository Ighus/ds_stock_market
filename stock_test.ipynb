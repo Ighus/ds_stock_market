{
 "cells": [
  {
   "cell_type": "code",
   "execution_count": 19,
   "metadata": {},
   "outputs": [],
   "source": [
    "import pandas_datareader as pdr  \n",
    "import datetime  \n",
    "import numpy as np  \n",
    "vale3 = pdr.get_data_yahoo('VALE3.SA', start=datetime.datetime(2016, 10, 1), end=datetime.datetime(2020, 9, 1))"
   ]
  },
  {
   "cell_type": "code",
   "execution_count": 14,
   "metadata": {},
   "outputs": [
    {
     "data": {
      "text/html": [
       "<div>\n",
       "<style scoped>\n",
       "    .dataframe tbody tr th:only-of-type {\n",
       "        vertical-align: middle;\n",
       "    }\n",
       "\n",
       "    .dataframe tbody tr th {\n",
       "        vertical-align: top;\n",
       "    }\n",
       "\n",
       "    .dataframe thead th {\n",
       "        text-align: right;\n",
       "    }\n",
       "</style>\n",
       "<table border=\"1\" class=\"dataframe\">\n",
       "  <thead>\n",
       "    <tr style=\"text-align: right;\">\n",
       "      <th></th>\n",
       "      <th>High</th>\n",
       "      <th>Low</th>\n",
       "      <th>Open</th>\n",
       "      <th>Close</th>\n",
       "      <th>Volume</th>\n",
       "      <th>Adj Close</th>\n",
       "    </tr>\n",
       "    <tr>\n",
       "      <th>Date</th>\n",
       "      <th></th>\n",
       "      <th></th>\n",
       "      <th></th>\n",
       "      <th></th>\n",
       "      <th></th>\n",
       "      <th></th>\n",
       "    </tr>\n",
       "  </thead>\n",
       "  <tbody>\n",
       "    <tr>\n",
       "      <th>2017-03-20</th>\n",
       "      <td>31.889999</td>\n",
       "      <td>30.900000</td>\n",
       "      <td>31.150000</td>\n",
       "      <td>31.629999</td>\n",
       "      <td>3340900.0</td>\n",
       "      <td>27.217113</td>\n",
       "    </tr>\n",
       "    <tr>\n",
       "      <th>2019-02-20</th>\n",
       "      <td>46.080002</td>\n",
       "      <td>44.939999</td>\n",
       "      <td>45.900002</td>\n",
       "      <td>45.799999</td>\n",
       "      <td>25493000.0</td>\n",
       "      <td>42.827415</td>\n",
       "    </tr>\n",
       "    <tr>\n",
       "      <th>2017-12-04</th>\n",
       "      <td>36.980000</td>\n",
       "      <td>35.849998</td>\n",
       "      <td>35.959999</td>\n",
       "      <td>36.830002</td>\n",
       "      <td>22600100.0</td>\n",
       "      <td>32.748901</td>\n",
       "    </tr>\n",
       "    <tr>\n",
       "      <th>2019-01-24</th>\n",
       "      <td>56.200001</td>\n",
       "      <td>55.500000</td>\n",
       "      <td>55.799999</td>\n",
       "      <td>56.150002</td>\n",
       "      <td>14118200.0</td>\n",
       "      <td>52.505665</td>\n",
       "    </tr>\n",
       "    <tr>\n",
       "      <th>2017-02-13</th>\n",
       "      <td>35.849998</td>\n",
       "      <td>34.020000</td>\n",
       "      <td>34.209999</td>\n",
       "      <td>35.810001</td>\n",
       "      <td>11344600.0</td>\n",
       "      <td>30.813936</td>\n",
       "    </tr>\n",
       "  </tbody>\n",
       "</table>\n",
       "</div>"
      ],
      "text/plain": [
       "                 High        Low       Open      Close      Volume  Adj Close\n",
       "Date                                                                         \n",
       "2017-03-20  31.889999  30.900000  31.150000  31.629999   3340900.0  27.217113\n",
       "2019-02-20  46.080002  44.939999  45.900002  45.799999  25493000.0  42.827415\n",
       "2017-12-04  36.980000  35.849998  35.959999  36.830002  22600100.0  32.748901\n",
       "2019-01-24  56.200001  55.500000  55.799999  56.150002  14118200.0  52.505665\n",
       "2017-02-13  35.849998  34.020000  34.209999  35.810001  11344600.0  30.813936"
      ]
     },
     "execution_count": 14,
     "metadata": {},
     "output_type": "execute_result"
    }
   ],
   "source": [
    "vale3.sample(5)"
   ]
  },
  {
   "cell_type": "code",
   "execution_count": 15,
   "metadata": {},
   "outputs": [
    {
     "data": {
      "text/html": [
       "<div>\n",
       "<style scoped>\n",
       "    .dataframe tbody tr th:only-of-type {\n",
       "        vertical-align: middle;\n",
       "    }\n",
       "\n",
       "    .dataframe tbody tr th {\n",
       "        vertical-align: top;\n",
       "    }\n",
       "\n",
       "    .dataframe thead th {\n",
       "        text-align: right;\n",
       "    }\n",
       "</style>\n",
       "<table border=\"1\" class=\"dataframe\">\n",
       "  <thead>\n",
       "    <tr style=\"text-align: right;\">\n",
       "      <th></th>\n",
       "      <th>High</th>\n",
       "      <th>Low</th>\n",
       "      <th>Open</th>\n",
       "      <th>Close</th>\n",
       "      <th>Volume</th>\n",
       "      <th>Adj Close</th>\n",
       "    </tr>\n",
       "  </thead>\n",
       "  <tbody>\n",
       "    <tr>\n",
       "      <th>count</th>\n",
       "      <td>974.000000</td>\n",
       "      <td>974.000000</td>\n",
       "      <td>974.000000</td>\n",
       "      <td>974.000000</td>\n",
       "      <td>9.740000e+02</td>\n",
       "      <td>974.000000</td>\n",
       "    </tr>\n",
       "    <tr>\n",
       "      <th>mean</th>\n",
       "      <td>44.251396</td>\n",
       "      <td>43.036047</td>\n",
       "      <td>43.667279</td>\n",
       "      <td>43.639692</td>\n",
       "      <td>1.812405e+07</td>\n",
       "      <td>40.268099</td>\n",
       "    </tr>\n",
       "    <tr>\n",
       "      <th>std</th>\n",
       "      <td>10.806777</td>\n",
       "      <td>10.644633</td>\n",
       "      <td>10.752942</td>\n",
       "      <td>10.722215</td>\n",
       "      <td>1.323909e+07</td>\n",
       "      <td>10.891403</td>\n",
       "    </tr>\n",
       "    <tr>\n",
       "      <th>min</th>\n",
       "      <td>17.950001</td>\n",
       "      <td>17.559999</td>\n",
       "      <td>17.840000</td>\n",
       "      <td>17.650000</td>\n",
       "      <td>0.000000e+00</td>\n",
       "      <td>15.098835</td>\n",
       "    </tr>\n",
       "    <tr>\n",
       "      <th>25%</th>\n",
       "      <td>33.657499</td>\n",
       "      <td>32.682500</td>\n",
       "      <td>33.205001</td>\n",
       "      <td>33.147499</td>\n",
       "      <td>1.027838e+07</td>\n",
       "      <td>29.169914</td>\n",
       "    </tr>\n",
       "    <tr>\n",
       "      <th>50%</th>\n",
       "      <td>47.445000</td>\n",
       "      <td>46.259998</td>\n",
       "      <td>46.970001</td>\n",
       "      <td>46.815001</td>\n",
       "      <td>1.618220e+07</td>\n",
       "      <td>43.592493</td>\n",
       "    </tr>\n",
       "    <tr>\n",
       "      <th>75%</th>\n",
       "      <td>52.497500</td>\n",
       "      <td>51.274999</td>\n",
       "      <td>51.919998</td>\n",
       "      <td>51.837501</td>\n",
       "      <td>2.353615e+07</td>\n",
       "      <td>48.463711</td>\n",
       "    </tr>\n",
       "    <tr>\n",
       "      <th>max</th>\n",
       "      <td>63.880001</td>\n",
       "      <td>62.849998</td>\n",
       "      <td>63.410000</td>\n",
       "      <td>63.060001</td>\n",
       "      <td>1.835345e+08</td>\n",
       "      <td>60.529705</td>\n",
       "    </tr>\n",
       "  </tbody>\n",
       "</table>\n",
       "</div>"
      ],
      "text/plain": [
       "             High         Low        Open       Close        Volume  \\\n",
       "count  974.000000  974.000000  974.000000  974.000000  9.740000e+02   \n",
       "mean    44.251396   43.036047   43.667279   43.639692  1.812405e+07   \n",
       "std     10.806777   10.644633   10.752942   10.722215  1.323909e+07   \n",
       "min     17.950001   17.559999   17.840000   17.650000  0.000000e+00   \n",
       "25%     33.657499   32.682500   33.205001   33.147499  1.027838e+07   \n",
       "50%     47.445000   46.259998   46.970001   46.815001  1.618220e+07   \n",
       "75%     52.497500   51.274999   51.919998   51.837501  2.353615e+07   \n",
       "max     63.880001   62.849998   63.410000   63.060001  1.835345e+08   \n",
       "\n",
       "        Adj Close  \n",
       "count  974.000000  \n",
       "mean    40.268099  \n",
       "std     10.891403  \n",
       "min     15.098835  \n",
       "25%     29.169914  \n",
       "50%     43.592493  \n",
       "75%     48.463711  \n",
       "max     60.529705  "
      ]
     },
     "execution_count": 15,
     "metadata": {},
     "output_type": "execute_result"
    }
   ],
   "source": [
    "vale3.describe()"
   ]
  },
  {
   "cell_type": "code",
   "execution_count": 16,
   "metadata": {},
   "outputs": [
    {
     "data": {
      "text/plain": [
       "DatetimeIndex(['2016-10-03', '2016-10-04', '2016-10-05', '2016-10-06',\n",
       "               '2016-10-07', '2016-10-10', '2016-10-11', '2016-10-13',\n",
       "               '2016-10-14', '2016-10-17',\n",
       "               ...\n",
       "               '2020-08-19', '2020-08-20', '2020-08-21', '2020-08-24',\n",
       "               '2020-08-25', '2020-08-26', '2020-08-27', '2020-08-28',\n",
       "               '2020-08-31', '2020-09-01'],\n",
       "              dtype='datetime64[ns]', name='Date', length=974, freq=None)"
      ]
     },
     "metadata": {},
     "output_type": "display_data"
    },
    {
     "data": {
      "text/plain": [
       "Index(['High', 'Low', 'Open', 'Close', 'Volume', 'Adj Close'], dtype='object')"
      ]
     },
     "metadata": {},
     "output_type": "display_data"
    }
   ],
   "source": [
    "display(vale3.index)\n",
    "display(vale3.columns)"
   ]
  },
  {
   "cell_type": "code",
   "execution_count": 23,
   "metadata": {},
   "outputs": [
    {
     "data": {
      "text/html": [
       "<div>\n",
       "<style scoped>\n",
       "    .dataframe tbody tr th:only-of-type {\n",
       "        vertical-align: middle;\n",
       "    }\n",
       "\n",
       "    .dataframe tbody tr th {\n",
       "        vertical-align: top;\n",
       "    }\n",
       "\n",
       "    .dataframe thead th {\n",
       "        text-align: right;\n",
       "    }\n",
       "</style>\n",
       "<table border=\"1\" class=\"dataframe\">\n",
       "  <thead>\n",
       "    <tr style=\"text-align: right;\">\n",
       "      <th></th>\n",
       "      <th>High</th>\n",
       "      <th>Low</th>\n",
       "      <th>Open</th>\n",
       "      <th>Close</th>\n",
       "      <th>Volume</th>\n",
       "      <th>Adj Close</th>\n",
       "    </tr>\n",
       "    <tr>\n",
       "      <th>Date</th>\n",
       "      <th></th>\n",
       "      <th></th>\n",
       "      <th></th>\n",
       "      <th></th>\n",
       "      <th></th>\n",
       "      <th></th>\n",
       "    </tr>\n",
       "  </thead>\n",
       "  <tbody>\n",
       "    <tr>\n",
       "      <th>2020-06-01</th>\n",
       "      <td>53.849998</td>\n",
       "      <td>52.500000</td>\n",
       "      <td>52.820000</td>\n",
       "      <td>53.419998</td>\n",
       "      <td>27152300.0</td>\n",
       "      <td>51.276512</td>\n",
       "    </tr>\n",
       "    <tr>\n",
       "      <th>2020-06-02</th>\n",
       "      <td>53.799999</td>\n",
       "      <td>53.000000</td>\n",
       "      <td>53.799999</td>\n",
       "      <td>53.419998</td>\n",
       "      <td>25602700.0</td>\n",
       "      <td>51.276512</td>\n",
       "    </tr>\n",
       "    <tr>\n",
       "      <th>2020-06-03</th>\n",
       "      <td>54.340000</td>\n",
       "      <td>53.380001</td>\n",
       "      <td>53.900002</td>\n",
       "      <td>53.660000</td>\n",
       "      <td>31584300.0</td>\n",
       "      <td>51.506882</td>\n",
       "    </tr>\n",
       "    <tr>\n",
       "      <th>2020-06-04</th>\n",
       "      <td>55.700001</td>\n",
       "      <td>53.520000</td>\n",
       "      <td>53.720001</td>\n",
       "      <td>55.660000</td>\n",
       "      <td>37638600.0</td>\n",
       "      <td>53.426632</td>\n",
       "    </tr>\n",
       "    <tr>\n",
       "      <th>2020-06-05</th>\n",
       "      <td>56.700001</td>\n",
       "      <td>54.340000</td>\n",
       "      <td>56.389999</td>\n",
       "      <td>54.610001</td>\n",
       "      <td>39799100.0</td>\n",
       "      <td>52.418762</td>\n",
       "    </tr>\n",
       "    <tr>\n",
       "      <th>2020-06-08</th>\n",
       "      <td>55.650002</td>\n",
       "      <td>53.980000</td>\n",
       "      <td>54.980000</td>\n",
       "      <td>54.779999</td>\n",
       "      <td>27456500.0</td>\n",
       "      <td>52.581940</td>\n",
       "    </tr>\n",
       "    <tr>\n",
       "      <th>2020-06-09</th>\n",
       "      <td>54.990002</td>\n",
       "      <td>54.119999</td>\n",
       "      <td>54.160000</td>\n",
       "      <td>54.990002</td>\n",
       "      <td>19860000.0</td>\n",
       "      <td>52.783516</td>\n",
       "    </tr>\n",
       "    <tr>\n",
       "      <th>2020-06-10</th>\n",
       "      <td>55.200001</td>\n",
       "      <td>53.759998</td>\n",
       "      <td>54.910000</td>\n",
       "      <td>54.200001</td>\n",
       "      <td>24321300.0</td>\n",
       "      <td>52.025215</td>\n",
       "    </tr>\n",
       "    <tr>\n",
       "      <th>2020-06-12</th>\n",
       "      <td>54.049999</td>\n",
       "      <td>51.980000</td>\n",
       "      <td>53.709999</td>\n",
       "      <td>53.400002</td>\n",
       "      <td>31223700.0</td>\n",
       "      <td>51.257317</td>\n",
       "    </tr>\n",
       "    <tr>\n",
       "      <th>2020-06-15</th>\n",
       "      <td>54.430000</td>\n",
       "      <td>52.130001</td>\n",
       "      <td>52.500000</td>\n",
       "      <td>53.880001</td>\n",
       "      <td>27425600.0</td>\n",
       "      <td>51.718056</td>\n",
       "    </tr>\n",
       "  </tbody>\n",
       "</table>\n",
       "</div>"
      ],
      "text/plain": [
       "                 High        Low       Open      Close      Volume  Adj Close\n",
       "Date                                                                         \n",
       "2020-06-01  53.849998  52.500000  52.820000  53.419998  27152300.0  51.276512\n",
       "2020-06-02  53.799999  53.000000  53.799999  53.419998  25602700.0  51.276512\n",
       "2020-06-03  54.340000  53.380001  53.900002  53.660000  31584300.0  51.506882\n",
       "2020-06-04  55.700001  53.520000  53.720001  55.660000  37638600.0  53.426632\n",
       "2020-06-05  56.700001  54.340000  56.389999  54.610001  39799100.0  52.418762\n",
       "2020-06-08  55.650002  53.980000  54.980000  54.779999  27456500.0  52.581940\n",
       "2020-06-09  54.990002  54.119999  54.160000  54.990002  19860000.0  52.783516\n",
       "2020-06-10  55.200001  53.759998  54.910000  54.200001  24321300.0  52.025215\n",
       "2020-06-12  54.049999  51.980000  53.709999  53.400002  31223700.0  51.257317\n",
       "2020-06-15  54.430000  52.130001  52.500000  53.880001  27425600.0  51.718056"
      ]
     },
     "execution_count": 23,
     "metadata": {},
     "output_type": "execute_result"
    }
   ],
   "source": [
    "vale3['2020-06-01':].head(10)"
   ]
  },
  {
   "cell_type": "code",
   "execution_count": 29,
   "metadata": {},
   "outputs": [
    {
     "data": {
      "text/plain": [
       "Date\n",
       "2020-08-19   -1.608580\n",
       "2020-08-20    1.827889\n",
       "2020-08-21   -0.336483\n",
       "2020-08-24    0.031777\n",
       "2020-08-25   -1.878981\n",
       "2020-08-26    0.145962\n",
       "2020-08-27   -1.458904\n",
       "2020-08-28   -0.130765\n",
       "2020-08-31   -2.324056\n",
       "2020-09-01    2.438211\n",
       "dtype: float64"
      ]
     },
     "metadata": {},
     "output_type": "display_data"
    }
   ],
   "source": [
    "pct_c = (vale3.Close / vale3.Open).apply(lambda x: x-1)*100\n",
    "display(pct_c.tail(10))"
   ]
  },
  {
   "cell_type": "code",
   "execution_count": 33,
   "metadata": {},
   "outputs": [],
   "source": [
    "daily_log_returns = np.log(vale3.Close.pct_change()+1)"
   ]
  },
  {
   "cell_type": "code",
   "execution_count": 45,
   "metadata": {},
   "outputs": [
    {
     "data": {
      "text/html": [
       "\n",
       "        <iframe\n",
       "            width=\"100%\"\n",
       "            height=\"525px\"\n",
       "            src=\"https://plotly.com/~igor.ferreira/1.embed\"\n",
       "            frameborder=\"0\"\n",
       "            allowfullscreen\n",
       "        ></iframe>\n",
       "        "
      ],
      "text/plain": [
       "<IPython.lib.display.IFrame at 0x1b51978ad00>"
      ]
     },
     "execution_count": 45,
     "metadata": {},
     "output_type": "execute_result"
    }
   ],
   "source": [
    "import plotly.graph_objects as go\n",
    "# plotly_username = \"igor.ferreira\"\n",
    "# plotly_key = \"KjNR5w7Z5CyxbR5FEzrm\"\n",
    "# py.sign_in(plotly_username, plotly_key)\n",
    "data = [go.Histogram(x = daily_log_returns)]\n",
    "py.iplot(data, filename = 'Histograma basico')"
   ]
  },
  {
   "cell_type": "code",
   "execution_count": null,
   "metadata": {},
   "outputs": [],
   "source": []
  },
  {
   "cell_type": "code",
   "execution_count": null,
   "metadata": {},
   "outputs": [],
   "source": []
  },
  {
   "cell_type": "code",
   "execution_count": null,
   "metadata": {},
   "outputs": [],
   "source": []
  },
  {
   "cell_type": "code",
   "execution_count": null,
   "metadata": {},
   "outputs": [],
   "source": []
  },
  {
   "cell_type": "code",
   "execution_count": null,
   "metadata": {},
   "outputs": [],
   "source": []
  },
  {
   "cell_type": "code",
   "execution_count": null,
   "metadata": {},
   "outputs": [],
   "source": []
  },
  {
   "cell_type": "code",
   "execution_count": null,
   "metadata": {},
   "outputs": [],
   "source": []
  },
  {
   "cell_type": "code",
   "execution_count": null,
   "metadata": {},
   "outputs": [],
   "source": []
  },
  {
   "cell_type": "code",
   "execution_count": null,
   "metadata": {},
   "outputs": [],
   "source": []
  },
  {
   "cell_type": "code",
   "execution_count": null,
   "metadata": {},
   "outputs": [],
   "source": []
  }
 ],
 "metadata": {
  "kernelspec": {
   "display_name": "Python 3.8.3 64-bit",
   "language": "python",
   "name": "python38364bit38ca8c85a5e344e5a2221539f1761ab1"
  },
  "language_info": {
   "codemirror_mode": {
    "name": "ipython",
    "version": 3
   },
   "file_extension": ".py",
   "mimetype": "text/x-python",
   "name": "python",
   "nbconvert_exporter": "python",
   "pygments_lexer": "ipython3",
   "version": "3.8.3"
  }
 },
 "nbformat": 4,
 "nbformat_minor": 4
}
